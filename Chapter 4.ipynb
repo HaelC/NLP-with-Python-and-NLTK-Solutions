{
 "cells": [
  {
   "cell_type": "markdown",
   "metadata": {},
   "source": [
    "**1. Find out more about sequence objects using Python's help facility. In the interpreter, type ** `help(str)`, `help(list)` **, and ** `help(tuple)` **. This will give you a full list of the functions supported by each type. Some functions have special names flanked with underscore; as the help documentation shows, each such function corresponds to something more familiar. For example ** `x.__getitem__(y)` ** is just a long-winded way of saying ** `x[y]` **.**"
   ]
  },
  {
   "cell_type": "code",
   "execution_count": 5,
   "metadata": {},
   "outputs": [
    {
     "name": "stdout",
     "output_type": "stream",
     "text": [
      "Help on class tuple in module builtins:\n",
      "\n",
      "class tuple(object)\n",
      " |  tuple() -> empty tuple\n",
      " |  tuple(iterable) -> tuple initialized from iterable's items\n",
      " |  \n",
      " |  If the argument is a tuple, the return value is the same object.\n",
      " |  \n",
      " |  Methods defined here:\n",
      " |  \n",
      " |  __add__(self, value, /)\n",
      " |      Return self+value.\n",
      " |  \n",
      " |  __contains__(self, key, /)\n",
      " |      Return key in self.\n",
      " |  \n",
      " |  __eq__(self, value, /)\n",
      " |      Return self==value.\n",
      " |  \n",
      " |  __ge__(self, value, /)\n",
      " |      Return self>=value.\n",
      " |  \n",
      " |  __getattribute__(self, name, /)\n",
      " |      Return getattr(self, name).\n",
      " |  \n",
      " |  __getitem__(self, key, /)\n",
      " |      Return self[key].\n",
      " |  \n",
      " |  __getnewargs__(...)\n",
      " |  \n",
      " |  __gt__(self, value, /)\n",
      " |      Return self>value.\n",
      " |  \n",
      " |  __hash__(self, /)\n",
      " |      Return hash(self).\n",
      " |  \n",
      " |  __iter__(self, /)\n",
      " |      Implement iter(self).\n",
      " |  \n",
      " |  __le__(self, value, /)\n",
      " |      Return self<=value.\n",
      " |  \n",
      " |  __len__(self, /)\n",
      " |      Return len(self).\n",
      " |  \n",
      " |  __lt__(self, value, /)\n",
      " |      Return self<value.\n",
      " |  \n",
      " |  __mul__(self, value, /)\n",
      " |      Return self*value.n\n",
      " |  \n",
      " |  __ne__(self, value, /)\n",
      " |      Return self!=value.\n",
      " |  \n",
      " |  __new__(*args, **kwargs) from builtins.type\n",
      " |      Create and return a new object.  See help(type) for accurate signature.\n",
      " |  \n",
      " |  __repr__(self, /)\n",
      " |      Return repr(self).\n",
      " |  \n",
      " |  __rmul__(self, value, /)\n",
      " |      Return self*value.\n",
      " |  \n",
      " |  count(...)\n",
      " |      T.count(value) -> integer -- return number of occurrences of value\n",
      " |  \n",
      " |  index(...)\n",
      " |      T.index(value, [start, [stop]]) -> integer -- return first index of value.\n",
      " |      Raises ValueError if the value is not present.\n",
      "\n"
     ]
    }
   ],
   "source": [
    "# help(str)\n",
    "# help(list)\n",
    "help(tuple)"
   ]
  },
  {
   "cell_type": "markdown",
   "metadata": {},
   "source": [
    "**2. Identify three operations that can be performed on both tuples and lists. Identify three list operations that cannot be performed on tuples. Name a context where using a list instead of a tuple generates a Python error.**"
   ]
  },
  {
   "cell_type": "code",
   "execution_count": 39,
   "metadata": {
    "collapsed": true
   },
   "outputs": [],
   "source": [
    "# https://docs.python.org/3/library/stdtypes.html#typesseq\n",
    "\n",
    "exp_list = ['natural', 'language', 'processing']\n",
    "exp_tuple = 'natural', 'language', 'processing'\n",
    "\n",
    "# Common operations\n",
    "'language' in exp_list              # in\n",
    "'language' not in exp_tuple         # not in\n",
    "\n",
    "exp_list[0]                         # subsciption\n",
    "exp_tuple[1:]                       # slicing\n",
    "\n",
    "len(exp_list)                       # length\n",
    "len(exp_tuple)\n",
    "\n",
    "min(exp_list)                       # smallest item\n",
    "max(exp_tuple)                      # largest item\n",
    "\n",
    "exp_list.index('language')          # index of the first occurrence\n",
    "exp_tuple.index('processing', 1)    # index of the first occurrence (at or after index 1)\n",
    "\n",
    "# List operations(mutable) that cannot be performed on tuples\n",
    "exp_list[0] = 'Natural'\n",
    "del exp_list[1]\n",
    "exp_list.append('understanding')\n",
    "exp_list.insert(1, 'Language')\n",
    "exp_list.pop()\n",
    "exp_list.remove('Natural')\n",
    "exp_list.clear()"
   ]
  },
  {
   "cell_type": "code",
   "execution_count": 50,
   "metadata": {
    "collapsed": true
   },
   "outputs": [],
   "source": [
    "tuple_only = 'natural', ['N', 'AE1', 'CH', 'ER0', 'AH0', 'L']\n",
    "# though it seems okay to create a list with ['natural', ['N', 'AE1', 'CH', 'ER0', 'AH0', 'L']]"
   ]
  },
  {
   "cell_type": "markdown",
   "metadata": {},
   "source": [
    "**3.  Find out how to create a tuple consisting of a single item. There are at least two ways to do this.**"
   ]
  },
  {
   "cell_type": "code",
   "execution_count": 62,
   "metadata": {},
   "outputs": [
    {
     "name": "stdout",
     "output_type": "stream",
     "text": [
      "<class 'tuple'>\n",
      "<class 'tuple'>\n"
     ]
    }
   ],
   "source": [
    "tuple1 = 'single',\n",
    "tuple2 = tuple(['single'])\n",
    "print(type(tuple1))\n",
    "print(type(tuple2))"
   ]
  },
  {
   "cell_type": "markdown",
   "metadata": {},
   "source": [
    "**4.  Create a list ** `words = ['is', 'NLP', 'fun', '?']` **. Use a series of assignment statements (e.g. ** `words[1] = words[2]` **) and a temporary variable ** `tmp` ** to transform this list into the list ** `['NLP', 'is', 'fun', '!']` **. Now do the same transformation using tuple assignment.**"
   ]
  },
  {
   "cell_type": "code",
   "execution_count": 64,
   "metadata": {},
   "outputs": [
    {
     "data": {
      "text/plain": [
       "['NLP', 'is', 'fun', '!']"
      ]
     },
     "execution_count": 64,
     "metadata": {},
     "output_type": "execute_result"
    }
   ],
   "source": [
    "words = ['is', 'NLP', 'fun', '?']\n",
    "words[0], words[1] = words[1], words[0]     # tmp is not necessary\n",
    "words[-1] = '!'\n",
    "words"
   ]
  },
  {
   "cell_type": "code",
   "execution_count": 70,
   "metadata": {},
   "outputs": [
    {
     "data": {
      "text/plain": [
       "['NLP', 'is', 'fun', '!']"
      ]
     },
     "execution_count": 70,
     "metadata": {},
     "output_type": "execute_result"
    }
   ],
   "source": [
    "words_tuple = 'is', 'NLP', 'fun', '?'\n",
    "words_new = words_tuple[1], words_tuple[0], words_tuple[2], '!'\n",
    "list(words_new)"
   ]
  },
  {
   "cell_type": "markdown",
   "metadata": {},
   "source": [
    "**5. Read about the built-in comparison function ** `cmp` **, by typing ** `help(cmp)` **. How does it differ in behavior from the comparison operators?**"
   ]
  },
  {
   "cell_type": "markdown",
   "metadata": {},
   "source": [
    "Well, `cmp()` compare the two objects *x* and *y* and return an integer according to the outcome. The return value is negative if `x < y`, zero if `x == y` and strictly positive if `x > y`.  \n",
    "However, it was deprecated in Python3 and `cmp` is no longer a built-in comparison."
   ]
  },
  {
   "cell_type": "markdown",
   "metadata": {},
   "source": [
    "**6. Does the method for creating a sliding window of n-grams behave correctly for the two limiting cases: ** *n* = 1, **and ** *n* = `len(sent)` **?**"
   ]
  },
  {
   "cell_type": "code",
   "execution_count": 74,
   "metadata": {},
   "outputs": [
    {
     "data": {
      "text/plain": [
       "[['The', 'dog', 'gave', 'John', 'the', 'newspaper']]"
      ]
     },
     "execution_count": 74,
     "metadata": {},
     "output_type": "execute_result"
    }
   ],
   "source": [
    "sent = ['The', 'dog', 'gave', 'John', 'the', 'newspaper']\n",
    "n = len(sent)     # n = 1\n",
    "[sent[i:i+n] for i in range(len(sent)-n+1)]\n",
    "# The two boundary cases both works."
   ]
  },
  {
   "cell_type": "markdown",
   "metadata": {},
   "source": [
    "**7. We pointed out that when empty strings and empty lists occur in the condition part of an ** `if` ** clause, they evaluate to ** `False` **. In this case, they are said to be occurring in a Boolean context. Experiment with different kind of non-Boolean expressions in Boolean contexts, and see whether they evaluate as ** `True` ** or ** `False` **.**"
   ]
  },
  {
   "cell_type": "code",
   "execution_count": 78,
   "metadata": {},
   "outputs": [
    {
     "name": "stdout",
     "output_type": "stream",
     "text": [
      "True\n"
     ]
    }
   ],
   "source": [
    "a = 1\n",
    "if a:\n",
    "    print('True')\n",
    "else:\n",
    "    print('False')"
   ]
  },
  {
   "cell_type": "markdown",
   "metadata": {},
   "source": [
    "`False`, `None`, numeric zero of all types, and empty strings and containers (including strings, tuples, lists, dictionaries, sets and frozensets). All other values are interpreted as true."
   ]
  },
  {
   "cell_type": "markdown",
   "metadata": {},
   "source": [
    "**8. Use the inequality operators to compare strings, e.g. ** `'Monty' < 'Python'` **. What happens when you do ** `'Z' < 'a'` **? Try pairs of strings which have a common prefix, e.g. ** `'Monty' < 'Montague'` **. Read up on \"lexicographical sort\" in order to understand what is going on here. Try comparing structured objects, e.g. ** `('Monty', 1) < ('Monty', 2)` **. Does this behave as expected?**"
   ]
  },
  {
   "cell_type": "code",
   "execution_count": 85,
   "metadata": {},
   "outputs": [
    {
     "name": "stdout",
     "output_type": "stream",
     "text": [
      "True\n",
      "True\n",
      "False\n",
      "True\n"
     ]
    }
   ],
   "source": [
    "print('Monty' < 'Python')\n",
    "\n",
    "print('Z' < 'a')                  # 90('Z') and 97('a') in ASCII\n",
    "\n",
    "print('Monty' < 'Montague')\n",
    "# Lexicographical sort is introduced in Discrete Mathematics and Its Applications\n",
    "# https://en.wikipedia.org/wiki/Lexicographical_order\n",
    "\n",
    "print(('Monty', 1) < ('Monty', 2))"
   ]
  },
  {
   "cell_type": "markdown",
   "metadata": {},
   "source": [
    "**9. Write code that removes whitespace at the beginning and end of a string, and normalizes whitespace between words to be a single space character.**  \n",
    "1. **do this task using ** `split()` ** and ** `join()`  \n",
    "2. **do this task using regular expression substitutions**"
   ]
  },
  {
   "cell_type": "code",
   "execution_count": 95,
   "metadata": {},
   "outputs": [
    {
     "data": {
      "text/plain": [
       "'this is a sample sentence.'"
      ]
     },
     "execution_count": 95,
     "metadata": {},
     "output_type": "execute_result"
    }
   ],
   "source": [
    "s = ' this is \\n a sample\\t sentence. '\n",
    "' '.join(s.split())"
   ]
  },
  {
   "cell_type": "code",
   "execution_count": 97,
   "metadata": {},
   "outputs": [
    {
     "data": {
      "text/plain": [
       "'this is a sample sentence.'"
      ]
     },
     "execution_count": 97,
     "metadata": {},
     "output_type": "execute_result"
    }
   ],
   "source": [
    "import re\n",
    "s_ = re.sub(r'^\\s|\\s$', '', s)       # remove whitespace at the beginning and end of a string\n",
    "re.sub(r'\\s+', ' ', s_)              # normalize whitespace between words"
   ]
  },
  {
   "cell_type": "markdown",
   "metadata": {},
   "source": [
    "**10. Write a program to sort words by length. Define a helper function ** `cmp_len` ** which uses the ** `cmp` ** comparison function on word lengths.**"
   ]
  },
  {
   "cell_type": "code",
   "execution_count": 99,
   "metadata": {},
   "outputs": [
    {
     "data": {
      "text/plain": [
       "['a', 'to', 'by', 'sort', 'words', 'length', 'program']"
      ]
     },
     "execution_count": 99,
     "metadata": {},
     "output_type": "execute_result"
    }
   ],
   "source": [
    "word_list = 'a program to sort words by length'.split()\n",
    "sorted(word_list, key=len)"
   ]
  },
  {
   "cell_type": "markdown",
   "metadata": {
    "collapsed": true
   },
   "source": [
    "**11. Create a list of words and store it in a variable ** `sent1` **. Now assign ** `sent2 = sent1` **. Modify one of the items in ** `sent1` ** and verify that ** `sent2` ** has changed.**  \n",
    "a. **Now try the same exercise but instead assign ** `sent2 = sent1[:]` **. Modify ** `sent1` ** again and see what happens to ** `sent2` **. Explain.**  \n",
    "b. **Now define ** `text1` ** to be a list of lists of strings (e.g. to represent a text consisting of multiple sentences. Now assign ** `text2 = text1[:]` **, assign a new value to one of the words, e.g. ** `text1[1][1] = 'Monty'` **. Check what this did to ** `text2` **. Explain.**  \n",
    "c. **Load Python's ** `deepcopy()` ** function (i.e. ** `from copy import deepcopy` **), consult its documentation, and test that it makes a fresh copy of any object.**"
   ]
  },
  {
   "cell_type": "code",
   "execution_count": 2,
   "metadata": {},
   "outputs": [
    {
     "data": {
      "text/plain": [
       "['a', 'list', 'of', 'words']"
      ]
     },
     "execution_count": 2,
     "metadata": {},
     "output_type": "execute_result"
    }
   ],
   "source": [
    "sent1 = ['a', 'list', 'of', 'word']\n",
    "sent2 = sent1\n",
    "sent1[3] = 'words'\n",
    "sent2"
   ]
  },
  {
   "cell_type": "code",
   "execution_count": 5,
   "metadata": {},
   "outputs": [
    {
     "data": {
      "text/plain": [
       "['a', 'list', 'of', 'Word']"
      ]
     },
     "execution_count": 5,
     "metadata": {},
     "output_type": "execute_result"
    }
   ],
   "source": [
    "sent2 = sent1[:]\n",
    "sent1[3] = 'Word'\n",
    "sent2\n",
    "\n",
    "# sent2 = sent1[:] makes a copy of each element of sent1.\n",
    "# Since the elements are type of string,\n",
    "# the copy is just copy by value.\n",
    "# So the modification of sent1 doesn't affect sent2"
   ]
  },
  {
   "cell_type": "code",
   "execution_count": 8,
   "metadata": {},
   "outputs": [
    {
     "data": {
      "text/plain": [
       "[['Hush,', 'little', 'baby,', \"don't\", 'say', 'a', 'word,'],\n",
       " [\"Papa's\", 'Monty', 'to', 'buy', 'you', 'a', 'mockingbird.'],\n",
       " ['If', 'that', 'mockingbird', \"won't\", 'sing,'],\n",
       " [\"Papa's\", 'going', 'to', 'buy', 'you', 'a', 'diamond', 'ring.'],\n",
       " ['If', 'that', 'diamond', 'ring', 'turns', 'to', 'brass,'],\n",
       " [\"Papa's\", 'going', 'to', 'buy', 'you', 'a', 'looking-glass.'],\n",
       " ['If', 'that', 'looking-glass', 'gets', 'broke,'],\n",
       " [\"Papa's\", 'going', 'to', 'buy', 'you', 'a', 'billy-goat.'],\n",
       " ['If', 'that', 'billy-goat', 'runs', 'away,'],\n",
       " [\"Papa's\", 'going', 'to', 'buy', 'you', 'another', 'today.']]"
      ]
     },
     "execution_count": 8,
     "metadata": {},
     "output_type": "execute_result"
    }
   ],
   "source": [
    "text1 = [\"Hush, little baby, don't say a word,\".split(),\n",
    "         \"Papa's going to buy you a mockingbird.\".split(),\n",
    "         \"If that mockingbird won't sing,\".split(),\n",
    "         \"Papa's going to buy you a diamond ring.\".split(),\n",
    "         \"If that diamond ring turns to brass,\".split(),\n",
    "         \"Papa's going to buy you a looking-glass.\".split(),\n",
    "         \"If that looking-glass gets broke,\".split(),\n",
    "         \"Papa's going to buy you a billy-goat.\".split(),\n",
    "         \"If that billy-goat runs away,\".split(),\n",
    "         \"Papa's going to buy you another today.\".split()]\n",
    "text2 = text1[:]\n",
    "text1[1][1] = 'Monty'\n",
    "text2\n",
    "\n",
    "# text2 = text1[:] makes a copy of each element of sent1\n",
    "# The elements are lists and lists are objects.\n",
    "# Therefore, the copy is copy by reference.\n",
    "# The modification of text1 will affect text2 as well."
   ]
  },
  {
   "cell_type": "code",
   "execution_count": 10,
   "metadata": {},
   "outputs": [
    {
     "data": {
      "text/plain": [
       "[['Hush,', 'little', 'baby,', \"don't\", 'say', 'a', 'word,'],\n",
       " [\"Papa's\", 'Monty', 'to', 'buy', 'you', 'a', 'mockingbird.'],\n",
       " ['If', 'that', 'mockingbird', \"won't\", 'sing,'],\n",
       " [\"Papa's\", 'going', 'to', 'buy', 'you', 'a', 'diamond', 'ring.'],\n",
       " ['If', 'that', 'diamond', 'ring', 'turns', 'to', 'brass,'],\n",
       " [\"Papa's\", 'going', 'to', 'buy', 'you', 'a', 'looking-glass.'],\n",
       " ['If', 'that', 'looking-glass', 'gets', 'broke,'],\n",
       " [\"Papa's\", 'going', 'to', 'buy', 'you', 'a', 'billy-goat.'],\n",
       " ['If', 'that', 'billy-goat', 'runs', 'away,'],\n",
       " [\"Papa's\", 'going', 'to', 'buy', 'you', 'another', 'today.']]"
      ]
     },
     "execution_count": 10,
     "metadata": {},
     "output_type": "execute_result"
    }
   ],
   "source": [
    "# https://docs.python.org/3/library/copy.html\n",
    "from copy import deepcopy\n",
    "text3 = deepcopy(text1)\n",
    "text1[1][1] = 'going'\n",
    "text3\n",
    "\n",
    "# the modification of original list won't affect the copy"
   ]
  },
  {
   "cell_type": "code",
   "execution_count": null,
   "metadata": {
    "collapsed": true
   },
   "outputs": [],
   "source": []
  }
 ],
 "metadata": {
  "kernelspec": {
   "display_name": "Python 3",
   "language": "python",
   "name": "python3"
  },
  "language_info": {
   "codemirror_mode": {
    "name": "ipython",
    "version": 3
   },
   "file_extension": ".py",
   "mimetype": "text/x-python",
   "name": "python",
   "nbconvert_exporter": "python",
   "pygments_lexer": "ipython3",
   "version": "3.6.3"
  }
 },
 "nbformat": 4,
 "nbformat_minor": 2
}
